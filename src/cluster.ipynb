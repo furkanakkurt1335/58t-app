{
 "cells": [
  {
   "cell_type": "code",
   "execution_count": 84,
   "metadata": {},
   "outputs": [],
   "source": [
    "import os, json\n",
    "import numpy as np\n",
    "from sklearn.cluster import AgglomerativeClustering\n",
    "from sklearn.metrics.pairwise import cosine_distances"
   ]
  },
  {
   "cell_type": "code",
   "execution_count": 86,
   "metadata": {},
   "outputs": [
    {
     "data": {
      "text/plain": [
       "array([[0.        , 0.14202157, 0.52908602, 0.0542767 , 0.26140622],\n",
       "       [0.14202157, 0.        , 0.14280314, 0.02165583, 0.02000086],\n",
       "       [0.52908602, 0.14280314, 0.        , 0.26796128, 0.05746414],\n",
       "       [0.0542767 , 0.02165583, 0.26796128, 0.        , 0.08241387],\n",
       "       [0.26140622, 0.02000086, 0.05746414, 0.08241387, 0.        ]])"
      ]
     },
     "execution_count": 86,
     "metadata": {},
     "output_type": "execute_result"
    }
   ],
   "source": [
    "arr = np.random.rand(10, 2)\n",
    "agglo = AgglomerativeClustering(n_clusters=5, metric='cosine', linkage='average', compute_distances=True).fit(arr)\n",
    "labels = agglo.labels_\n",
    "d = {i: np.array([]) for i in range(agglo.n_clusters_)}\n",
    "for i in set(labels):\n",
    "    d[i] = arr[labels == i]\n",
    "center_d = {i: np.mean(d[i], axis=0) for i in d}\n",
    "cosine_distances(np.array(list(center_d.values())))"
   ]
  },
  {
   "cell_type": "code",
   "execution_count": 8,
   "metadata": {},
   "outputs": [],
   "source": [
    "data_path = os.path.join(os.getcwd(), '..', 'data')\n",
    "cluster_path = os.path.join(data_path, 'cluster_counts.json')\n",
    "min_dist_path = os.path.join(data_path, 'min-dist.json')\n",
    "with open(min_dist_path, 'r') as f:\n",
    "    min_dist_d = json.load(f)\n",
    "min_dist = min_dist_d['min']\n",
    "min_max_dist = min_dist_d['min_max']\n",
    "max_dist = min_dist_d['max']"
   ]
  },
  {
   "cell_type": "code",
   "execution_count": 10,
   "metadata": {},
   "outputs": [],
   "source": [
    "entry_path = os.path.join(data_path, 'sense_count_d.json')\n",
    "with open(entry_path, 'r') as f:\n",
    "    entry_d = json.load(f)\n",
    "words = list(entry_d.keys())"
   ]
  },
  {
   "cell_type": "code",
   "execution_count": 11,
   "metadata": {},
   "outputs": [],
   "source": [
    "repr_d_path = os.path.join(data_path, 'repr_d-rounded')\n",
    "repr_files = [i for i in os.listdir(repr_d_path) if i.endswith('.json')]"
   ]
  },
  {
   "cell_type": "code",
   "execution_count": 39,
   "metadata": {},
   "outputs": [
    {
     "name": "stdout",
     "output_type": "stream",
     "text": [
      "File: 0\n",
      "File: 1\n",
      "File: 2\n",
      "File: 3\n",
      "File: 4\n",
      "File: 5\n",
      "File: 6\n",
      "File: 7\n",
      "File: 8\n",
      "File: 9\n",
      "File: 10\n",
      "File: 11\n",
      "File: 12\n",
      "File: 13\n",
      "File: 14\n",
      "File: 15\n",
      "File: 16\n",
      "File: 17\n",
      "File: 18\n",
      "File: 19\n",
      "File: 20\n",
      "File: 21\n",
      "File: 22\n",
      "File: 23\n",
      "File: 24\n",
      "File: 25\n",
      "File: 26\n",
      "File: 27\n",
      "File: 28\n",
      "File: 29\n",
      "File: 30\n",
      "File: 31\n",
      "File: 32\n",
      "File: 33\n",
      "File: 34\n",
      "File: 35\n",
      "File: 36\n",
      "File: 37\n",
      "File: 38\n",
      "File: 39\n",
      "File: 40\n",
      "File: 41\n"
     ]
    }
   ],
   "source": [
    "words = [\"time\", \"people\", \"year\", \"way\", \"thing\", \"man\", \"day\", \"life\", \"woman\", \"world\", \"child\"]\n",
    "data = {word: [] for word in words}\n",
    "for i, repr_file in enumerate(repr_files):\n",
    "    print('File:', i)\n",
    "    with open(os.path.join(repr_d_path, repr_file)) as f:\n",
    "        d_t = json.load(f)\n",
    "    for word in words:\n",
    "        data[word].extend(d_t[word])"
   ]
  },
  {
   "cell_type": "code",
   "execution_count": 14,
   "metadata": {},
   "outputs": [],
   "source": [
    "with open(os.path.join(data_path, 'age_embs.json'), 'w') as f:\n",
    "    json.dump(data['age'], f)"
   ]
  },
  {
   "cell_type": "code",
   "execution_count": 52,
   "metadata": {},
   "outputs": [
    {
     "name": "stdout",
     "output_type": "stream",
     "text": [
      "Word: people\n",
      "N clusters: 3\n"
     ]
    }
   ],
   "source": [
    "threshold = max_dist/1.39\n",
    "for i, word in enumerate(words):\n",
    "    if i != 1:\n",
    "        continue\n",
    "    print('Word:', word)\n",
    "    agglo = AgglomerativeClustering(distance_threshold=threshold, n_clusters=None, metric='cosine', linkage='average').fit(data[word])\n",
    "    print('N clusters:', agglo.n_clusters_)"
   ]
  },
  {
   "cell_type": "code",
   "execution_count": null,
   "metadata": {},
   "outputs": [],
   "source": [
    "# age 38-41\n",
    "# time 415"
   ]
  },
  {
   "cell_type": "code",
   "execution_count": 42,
   "metadata": {},
   "outputs": [
    {
     "data": {
      "text/plain": [
       "dict_keys(['time', 'people', 'year', 'way', 'thing', 'man', 'day', 'life', 'woman', 'world', 'child'])"
      ]
     },
     "execution_count": 42,
     "metadata": {},
     "output_type": "execute_result"
    }
   ],
   "source": [
    "data.keys()"
   ]
  },
  {
   "cell_type": "code",
   "execution_count": 18,
   "metadata": {},
   "outputs": [
    {
     "data": {
      "text/plain": [
       "0.8301291045760159"
      ]
     },
     "execution_count": 18,
     "metadata": {},
     "output_type": "execute_result"
    }
   ],
   "source": [
    "max_dist"
   ]
  },
  {
   "cell_type": "code",
   "execution_count": 38,
   "metadata": {},
   "outputs": [
    {
     "name": "stdout",
     "output_type": "stream",
     "text": [
      "Labels: [0 0 0 ... 0 0 0]\n",
      "N clusters: 8\n",
      "N leaves: 1563\n",
      "N connected components: 1\n",
      "Distances: [0.03239704 0.04712282 0.04764177 ... 0.66103187 0.6660176  0.693711  ]\n",
      "Children: [[ 251  415]\n",
      " [ 554  567]\n",
      " [ 135  136]\n",
      " ...\n",
      " [2261 3121]\n",
      " [1969 3122]\n",
      " [ 737 3123]]\n"
     ]
    }
   ],
   "source": [
    "agglo = AgglomerativeClustering(distance_threshold=max_dist/1.395, n_clusters=None, metric='cosine', linkage='average').fit(data[word])\n",
    "print('Labels:', agglo.labels_)\n",
    "print('N clusters:', agglo.n_clusters_)\n",
    "print('N leaves:', agglo.n_leaves_)\n",
    "print('N connected components:', agglo.n_connected_components_)\n",
    "print('Distances:', agglo.distances_)\n",
    "print('Children:', agglo.children_)"
   ]
  },
  {
   "cell_type": "code",
   "execution_count": 28,
   "metadata": {},
   "outputs": [
    {
     "data": {
      "text/plain": [
       "8"
      ]
     },
     "execution_count": 28,
     "metadata": {},
     "output_type": "execute_result"
    }
   ],
   "source": [
    "entry_d['age']"
   ]
  },
  {
   "cell_type": "code",
   "execution_count": null,
   "metadata": {},
   "outputs": [],
   "source": [
    "38-41"
   ]
  }
 ],
 "metadata": {
  "kernelspec": {
   "display_name": ".venv",
   "language": "python",
   "name": "python3"
  },
  "language_info": {
   "codemirror_mode": {
    "name": "ipython",
    "version": 3
   },
   "file_extension": ".py",
   "mimetype": "text/x-python",
   "name": "python",
   "nbconvert_exporter": "python",
   "pygments_lexer": "ipython3",
   "version": "3.9.13"
  },
  "orig_nbformat": 4
 },
 "nbformat": 4,
 "nbformat_minor": 2
}
